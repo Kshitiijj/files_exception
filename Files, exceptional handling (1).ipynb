{
 "cells": [
  {
   "cell_type": "code",
   "execution_count": 1,
   "id": "d2bf7cac-9df5-40f3-8885-3bb81012196d",
   "metadata": {},
   "outputs": [
    {
     "data": {
      "text/plain": [
       "'\\nMultithreading improves performance by allowing concurrent execution of I/O-bound tasks, such as file operations or network requests, reducing wait times.\\n'"
      ]
     },
     "execution_count": 1,
     "metadata": {},
     "output_type": "execute_result"
    }
   ],
   "source": [
    "# 1. What is the difference between interpreted and compiled languages?\n",
    "\"\"\"\n",
    "Interpreted languages execute code line by line through an interpreter (e.g., Python). They do not produce a separate executable file.\n",
    "Compiled languages translate the entire source code into machine code (binary) using a compiler before execution (e.g., C++).\n",
    "Pros of interpreted: easier debugging and platform independence.\n",
    "Pros of compiled: faster execution and optimized performance.\n",
    "\"\"\"\n",
    "\n",
    "# 2. What is exception handling in Python?\n",
    "\"\"\"\n",
    "Exception handling in Python is a mechanism to handle runtime errors gracefully without crashing the program. \n",
    "It uses keywords like try, except, else, finally to manage errors.\n",
    "Example:\n",
    "try:\n",
    "    x = 10 / 0\n",
    "except ZeroDivisionError:\n",
    "    print(\"Cannot divide by zero\")\n",
    "\"\"\"\n",
    "\n",
    "# 3. What is the purpose of the finally block in exception handling?\n",
    "\"\"\"\n",
    "The finally block is executed regardless of whether an exception occurred or not. \n",
    "It is used to release resources or perform cleanup actions, such as closing files or network connections.\n",
    "Example:\n",
    "try:\n",
    "    file = open(\"test.txt\", \"r\")\n",
    "finally:\n",
    "    file.close()\n",
    "\"\"\"\n",
    "\n",
    "# 4. What is logging in Python?\n",
    "\"\"\"\n",
    "Logging in Python is a way to record events, errors, and informational messages during program execution. \n",
    "It is helpful for debugging and monitoring. The logging module provides different levels: DEBUG, INFO, WARNING, ERROR, CRITICAL.\n",
    "Example:\n",
    "import logging\n",
    "logging.basicConfig(level=logging.INFO)\n",
    "logging.info(\"This is an informational message\")\n",
    "\"\"\"\n",
    "\n",
    "# 5. What is the significance of the __del__ method in Python?\n",
    "\"\"\"\n",
    "The __del__ method is a destructor method in Python, called when an object is about to be destroyed (garbage collected). \n",
    "It is used to release resources or cleanup.\n",
    "Example:\n",
    "class MyClass:\n",
    "    def __del__(self):\n",
    "        print(\"Object is being destroyed\")\n",
    "obj = MyClass()\n",
    "del obj\n",
    "\"\"\"\n",
    "\n",
    "# 6. What is the difference between import and from ... import in Python?\n",
    "\"\"\"\n",
    "import imports the entire module, and you access its members using the module name.\n",
    "from ... import imports specific members directly, allowing direct access.\n",
    "Example:\n",
    "import math\n",
    "print(math.sqrt(16))\n",
    "\n",
    "from math import sqrt\n",
    "print(sqrt(16))\n",
    "\"\"\"\n",
    "\n",
    "# 7. How can you handle multiple exceptions in Python?\n",
    "\"\"\"\n",
    "You can handle multiple exceptions using multiple except blocks or a single except block with a tuple of exceptions.\n",
    "Example:\n",
    "try:\n",
    "    x = int(\"abc\")\n",
    "except (ValueError, TypeError):\n",
    "    print(\"Invalid input\")\n",
    "\"\"\"\n",
    "\n",
    "# 8. What is the purpose of the with statement when handling files in Python?\n",
    "\"\"\"\n",
    "The with statement ensures that resources like files are properly closed after their block is executed, even if an error occurs.\n",
    "Example:\n",
    "with open(\"test.txt\", \"r\") as file:\n",
    "    data = file.read()\n",
    "# File is automatically closed here.\n",
    "\"\"\"\n",
    "\n",
    "# 9. What is the difference between multithreading and multiprocessing?\n",
    "\"\"\"\n",
    "Multithreading uses multiple threads within the same process to perform tasks concurrently. It is suitable for I/O-bound tasks.\n",
    "Multiprocessing uses multiple processes, each with its memory space. It is suitable for CPU-bound tasks.\n",
    "Example:\n",
    "from threading import Thread\n",
    "from multiprocessing import Process\n",
    "\"\"\"\n",
    "\n",
    "# 10. What are the advantages of using logging in a program?\n",
    "\"\"\"\n",
    "1. Debugging: Helps trace errors.\n",
    "2. Monitoring: Tracks application behavior and performance.\n",
    "3. Persistent Records: Keeps logs for future reference.\n",
    "4. Adjustable Levels: Allows filtering messages (e.g., only warnings).\n",
    "\"\"\"\n",
    "\n",
    "# 11. What is memory management in Python?\n",
    "\"\"\"\n",
    "Python handles memory management automatically using reference counting and garbage collection. \n",
    "Developers do not manually allocate/deallocate memory.\n",
    "Key features: dynamic allocation, object pooling, and garbage collection.\n",
    "\"\"\"\n",
    "\n",
    "# 12. What are the basic steps involved in exception handling in Python?\n",
    "\"\"\"\n",
    "1. Write the code inside a try block.\n",
    "2. Catch exceptions using except blocks.\n",
    "3. Optionally use an else block for code executed if no exceptions occur.\n",
    "4. Use a finally block for cleanup.\n",
    "\"\"\"\n",
    "\n",
    "# 13. Why is memory management important in Python?\n",
    "\"\"\"\n",
    "Efficient memory management prevents memory leaks, ensures smooth program execution, and optimizes resource usage.\n",
    "Python's garbage collector automatically manages unused memory.\n",
    "\"\"\"\n",
    "\n",
    "# 14. What is the role of try and except in exception handling?\n",
    "\"\"\"\n",
    "The try block contains code that may raise an exception.\n",
    "The except block catches and handles exceptions, preventing program crashes.\n",
    "\"\"\"\n",
    "\n",
    "# 15. How does Python's garbage collection system work?\n",
    "\"\"\"\n",
    "Python's garbage collection system identifies and reclaims unused memory using:\n",
    "1. Reference counting: Deletes objects with zero references.\n",
    "2. Cyclic garbage collector: Removes objects with circular references.\n",
    "\"\"\"\n",
    "\n",
    "# 16. What is the purpose of the else block in exception handling?\n",
    "\"\"\"\n",
    "The else block executes code only if no exceptions occur in the try block. It is used for code that should run after successful execution.\n",
    "\"\"\"\n",
    "\n",
    "# 17. What are the common logging levels in Python?\n",
    "\"\"\"\n",
    "1. DEBUG: Detailed information for diagnosing issues.\n",
    "2. INFO: General information about program operation.\n",
    "3. WARNING: Indication of potential problems.\n",
    "4. ERROR: Errors that prevent normal execution.\n",
    "5. CRITICAL: Severe errors causing termination.\n",
    "\"\"\"\n",
    "\n",
    "# 18. What is the difference between os.fork() and multiprocessing in Python?\n",
    "\"\"\"\n",
    "- os.fork() creates a new process by duplicating the current process. It is Unix-specific.\n",
    "- multiprocessing provides a cross-platform way to create processes with better abstractions and ease of use.\n",
    "\"\"\"\n",
    "\n",
    "# 19. What is the importance of closing a file in Python?\n",
    "\"\"\"\n",
    "Closing a file releases system resources and ensures data is properly written to the file (flushed).\n",
    "Failing to close a file may lead to resource leaks.\n",
    "\"\"\"\n",
    "\n",
    "# 20. What is the difference between file.read() and file.readline() in Python?\n",
    "\"\"\"\n",
    "file.read(): Reads the entire file as a string or specified number of characters.\n",
    "file.readline(): Reads a single line from the file at a time.\n",
    "\"\"\"\n",
    "\n",
    "# 21. What is the logging module in Python used for?\n",
    "\"\"\"\n",
    "The logging module is used to record messages during program execution, helping with debugging, error tracking, and application monitoring.\n",
    "\"\"\"\n",
    "\n",
    "# 22. What is the os module in Python used for in file handling?\n",
    "\"\"\"\n",
    "The os module provides functions to interact with the operating system, such as:\n",
    "1. Creating, deleting, and renaming files/directories.\n",
    "2. Checking file existence.\n",
    "3. Managing file paths.\n",
    "\"\"\"\n",
    "\n",
    "# 23. What are the challenges associated with memory management in Python?\n",
    "\"\"\"\n",
    "1. Circular references: May delay garbage collection.\n",
    "2. Overhead: Dynamic memory allocation adds runtime overhead.\n",
    "3. Memory leaks: Unreleased objects with references can cause leaks.\n",
    "\"\"\"\n",
    "\n",
    "# 24. How do you raise an exception manually in Python?\n",
    "\"\"\"\n",
    "You can raise an exception using the raise keyword.\n",
    "Example:\n",
    "raise ValueError(\"Invalid input\")\n",
    "\"\"\"\n",
    "\n",
    "# 25. Why is it important to use multithreading in certain applications?\n",
    "\"\"\"\n",
    "Multithreading improves performance by allowing concurrent execution of I/O-bound tasks, such as file operations or network requests, reducing wait times.\n",
    "\"\"\"\n"
   ]
  },
  {
   "cell_type": "code",
   "execution_count": 3,
   "id": "653fbddf-d94c-4c18-8c7a-63b1f896c05c",
   "metadata": {},
   "outputs": [],
   "source": [
    "#Practical Questions"
   ]
  },
  {
   "cell_type": "code",
   "execution_count": 5,
   "id": "be98ce49-de4c-488b-b405-88a200b5d0de",
   "metadata": {},
   "outputs": [],
   "source": [
    "# 1. How can you open a file for writing in Python and write a string to it?\n",
    "\n",
    "with open(\"file1.txt\", \"w\") as file:\n",
    "    file.write(\"This is the first string written to the file.\")\n",
    "\n"
   ]
  },
  {
   "cell_type": "code",
   "execution_count": 7,
   "id": "2ca00353-321e-4adf-9c15-756035031bf7",
   "metadata": {},
   "outputs": [
    {
     "name": "stdout",
     "output_type": "stream",
     "text": [
      "Line 1\n",
      "Line 2\n",
      "Line 3\n"
     ]
    }
   ],
   "source": [
    "# 2. Write a Python program to read the contents of a file and print each line.\n",
    "\n",
    "with open(\"file2.txt\", \"w\") as file:\n",
    "    file.write(\"Line 1\\nLine 2\\nLine 3\")\n",
    "\n",
    "with open(\"file2.txt\", \"r\") as file:\n",
    "    for line in file:\n",
    "        print(line.strip())\n"
   ]
  },
  {
   "cell_type": "code",
   "execution_count": 9,
   "id": "9d29817c-b1ae-4251-92ef-6b1af31700b8",
   "metadata": {},
   "outputs": [
    {
     "name": "stdout",
     "output_type": "stream",
     "text": [
      "The file does not exist. Creating the file now...\n"
     ]
    }
   ],
   "source": [
    "# 3. How would you handle a case where the file doesn’t exist while trying to open it for reading?\n",
    "\n",
    "try:\n",
    "    with open(\"nonexistent_file.txt\", \"r\") as file:\n",
    "        content = file.read()\n",
    "except FileNotFoundError:\n",
    "    print(\"The file does not exist. Creating the file now...\")\n",
    "    with open(\"nonexistent_file.txt\", \"w\") as file:\n",
    "        file.write(\"This is a new file created because the original one was missing.\")\n"
   ]
  },
  {
   "cell_type": "code",
   "execution_count": 11,
   "id": "8ff6529c-a830-4e33-ab80-1e58300977b2",
   "metadata": {},
   "outputs": [],
   "source": [
    "# 4. Write a Python script that reads from one file and writes its content to another file.\n",
    "\n",
    "with open(\"source_file.txt\", \"w\") as source:\n",
    "    source.write(\"This content is copied from the source file.\")\n",
    "\n",
    "with open(\"source_file.txt\", \"r\") as source, open(\"destination_file.txt\", \"w\") as destination:\n",
    "    for line in source:\n",
    "        destination.write(line)\n"
   ]
  },
  {
   "cell_type": "code",
   "execution_count": 13,
   "id": "42e084c8-5c1c-4c06-a36c-8fed3efc9b28",
   "metadata": {},
   "outputs": [
    {
     "name": "stdout",
     "output_type": "stream",
     "text": [
      "Division by zero is not allowed.\n"
     ]
    }
   ],
   "source": [
    "# 5. How would you catch and handle division by zero error in Python?\n",
    "\n",
    "try:\n",
    "    result = 10 / 0\n",
    "except ZeroDivisionError:\n",
    "    print(\"Division by zero is not allowed.\")"
   ]
  },
  {
   "cell_type": "code",
   "execution_count": 15,
   "id": "79f0150f-9086-4bb0-b80a-742daf42a3b9",
   "metadata": {},
   "outputs": [],
   "source": [
    "# 6. Write a Python program that logs an error message to a log file when a division by zero exception occurs.\n",
    "\n",
    "import logging\n",
    "\n",
    "logging.basicConfig(filename=\"error.log\", level=logging.ERROR)\n",
    "\n",
    "try:\n",
    "    result = 10 / 0\n",
    "except ZeroDivisionError as e:\n",
    "    logging.error(\"Division by zero error occurred: %s\", e)"
   ]
  },
  {
   "cell_type": "code",
   "execution_count": 17,
   "id": "6d6a75e2-28d7-4b70-960b-0d21c6cc44af",
   "metadata": {},
   "outputs": [],
   "source": [
    "# 7. How do you log information at different levels (INFO, ERROR, WARNING) in Python using the logging module?\n",
    "\n",
    "import logging\n",
    "\n",
    "logging.basicConfig(level=logging.INFO)\n",
    "\n",
    "logging.info(\"This is an INFO message.\")\n",
    "logging.warning(\"This is a WARNING message.\")\n",
    "logging.error(\"This is an ERROR message.\")"
   ]
  },
  {
   "cell_type": "code",
   "execution_count": 19,
   "id": "4dd6e9cb-102e-486f-8510-dde1ebb6b557",
   "metadata": {},
   "outputs": [],
   "source": [
    "# 8. Write a program to handle a file opening error using exception handling.\n",
    "\n",
    "try:\n",
    "    with open(\"nonexistent_file.txt\", \"r\") as file:\n",
    "        content = file.read()\n",
    "except FileNotFoundError:\n",
    "    print(\"File not found. Please check the file name and try again.\")"
   ]
  },
  {
   "cell_type": "code",
   "execution_count": 21,
   "id": "b5f1a84f-d049-4174-bcfd-e6f8d0e6a4d3",
   "metadata": {},
   "outputs": [
    {
     "name": "stdout",
     "output_type": "stream",
     "text": [
      "['Python\\n', 'Java\\n', 'C++']\n"
     ]
    }
   ],
   "source": [
    "# 9. How can you read a file line by line and store its content in a list in Python?\n",
    "\n",
    "with open(\"file3.txt\", \"w\") as file:\n",
    "    file.write(\"Python\\nJava\\nC++\")\n",
    "\n",
    "lines = []\n",
    "with open(\"file3.txt\", \"r\") as file:\n",
    "    lines = file.readlines()\n",
    "\n",
    "print(lines)"
   ]
  },
  {
   "cell_type": "code",
   "execution_count": 23,
   "id": "4046ae2d-d8bf-421f-8ad6-2d28851fc17b",
   "metadata": {},
   "outputs": [
    {
     "name": "stdout",
     "output_type": "stream",
     "text": [
      "Initial content.\n",
      "Appended content.\n",
      "\n"
     ]
    }
   ],
   "source": [
    "# 10. How can you append data to an existing file in Python?\n",
    "\n",
    "with open(\"file4.txt\", \"w\") as file:\n",
    "    file.write(\"Initial content.\\n\")\n",
    "\n",
    "with open(\"file4.txt\", \"a\") as file:\n",
    "    file.write(\"Appended content.\\n\")\n",
    "\n",
    "with open(\"file4.txt\", \"r\") as file:\n",
    "    print(file.read())"
   ]
  },
  {
   "cell_type": "code",
   "execution_count": 25,
   "id": "4f2de75f-e110-4041-b91f-95c8fdf1409f",
   "metadata": {},
   "outputs": [
    {
     "name": "stdout",
     "output_type": "stream",
     "text": [
      "The specified key does not exist in the dictionary.\n"
     ]
    }
   ],
   "source": [
    "# 11. Write a Python program that uses a try-except block to handle an error when attempting to access a dictionary key that doesn’t exist.\n",
    "\n",
    "my_dict = {\"key1\": \"value1\"}\n",
    "try:\n",
    "    print(my_dict[\"key2\"])\n",
    "except KeyError:\n",
    "    print(\"The specified key does not exist in the dictionary.\")"
   ]
  },
  {
   "cell_type": "code",
   "execution_count": 27,
   "id": "9ae2cfca-dbbe-4491-b96e-67c0c638033e",
   "metadata": {},
   "outputs": [
    {
     "name": "stdout",
     "output_type": "stream",
     "text": [
      "Division by zero is not allowed.\n"
     ]
    }
   ],
   "source": [
    "# 12. Write a program that demonstrates using multiple except blocks to handle different types of exceptions.\n",
    "\n",
    "try:\n",
    "    result = 10 / 0\n",
    "    print(my_list[1])\n",
    "except ZeroDivisionError:\n",
    "    print(\"Division by zero is not allowed.\")\n",
    "except NameError:\n",
    "    print(\"Variable not defined.\")"
   ]
  },
  {
   "cell_type": "code",
   "execution_count": 29,
   "id": "45627d19-8b71-45db-b58f-2cb77e1b46f8",
   "metadata": {},
   "outputs": [
    {
     "name": "stdout",
     "output_type": "stream",
     "text": [
      "File does not exist. Creating it now...\n"
     ]
    }
   ],
   "source": [
    "# 13. How would you check if a file exists before attempting to read it in Python?\n",
    "\n",
    "import os\n",
    "\n",
    "if os.path.exists(\"file5.txt\"):\n",
    "    with open(\"file5.txt\", \"r\") as file:\n",
    "        print(file.read())\n",
    "else:\n",
    "    print(\"File does not exist. Creating it now...\")\n",
    "    with open(\"file5.txt\", \"w\") as file:\n",
    "        file.write(\"This is a newly created file.\")"
   ]
  },
  {
   "cell_type": "code",
   "execution_count": 31,
   "id": "2df76347-a83b-4b95-8868-00d2df6286ff",
   "metadata": {},
   "outputs": [],
   "source": [
    "# 14. Write a program that uses the logging module to log both informational and error messages.\n",
    "\n",
    "import logging\n",
    "\n",
    "logging.basicConfig(level=logging.INFO)\n",
    "\n",
    "logging.info(\"This is an informational message.\")\n",
    "try:\n",
    "    result = 10 / 0\n",
    "except ZeroDivisionError:\n",
    "    logging.error(\"An error occurred: Division by zero.\")"
   ]
  },
  {
   "cell_type": "code",
   "execution_count": 33,
   "id": "96fc6a4e-6a7c-4339-8331-3590fc8ef6ab",
   "metadata": {},
   "outputs": [
    {
     "name": "stdout",
     "output_type": "stream",
     "text": [
      "The file is empty.\n"
     ]
    }
   ],
   "source": [
    "# 15. Write a Python program that prints the content of a file and handles the case when the file is empty.\n",
    "\n",
    "with open(\"file6.txt\", \"w\") as file:\n",
    "    pass\n",
    "\n",
    "with open(\"file6.txt\", \"r\") as file:\n",
    "    content = file.read()\n",
    "    if not content:\n",
    "        print(\"The file is empty.\")\n",
    "    else:\n",
    "        print(content)"
   ]
  },
  {
   "cell_type": "code",
   "execution_count": 41,
   "id": "35cfe4d3-592e-4d53-9c0a-0e01c9adb3ad",
   "metadata": {},
   "outputs": [
    {
     "name": "stdout",
     "output_type": "stream",
     "text": [
      "Requirement already satisfied: memory-profiler in c:\\users\\kshit\\anaconda3\\lib\\site-packages (0.61.0)\n",
      "Requirement already satisfied: psutil in c:\\users\\kshit\\anaconda3\\lib\\site-packages (from memory-profiler) (5.9.0)\n"
     ]
    }
   ],
   "source": [
    "# 16. Demonstrate how to use memory profiling to check the memory usage of a small program.\n",
    "\n",
    "!pip install memory-profiler\n",
    "\n"
   ]
  },
  {
   "cell_type": "code",
   "execution_count": 43,
   "id": "ad69fe0c-e5ab-4445-95e8-e0c15811cb43",
   "metadata": {},
   "outputs": [
    {
     "name": "stdout",
     "output_type": "stream",
     "text": [
      "ERROR: Could not find file C:\\Users\\kshit\\AppData\\Local\\Temp\\ipykernel_19336\\2646837782.py\n"
     ]
    }
   ],
   "source": [
    "from memory_profiler import profile\n",
    "\n",
    "@profile\n",
    "def memory_usage_example():\n",
    "    # Creating a list to demonstrate memory usage\n",
    "    large_list = [i for i in range(10**6)]\n",
    "    return sum(large_list)\n",
    "\n",
    "if __name__ == \"__main__\":\n",
    "    memory_usage_example()"
   ]
  },
  {
   "cell_type": "code",
   "execution_count": 45,
   "id": "4cff0db3-273f-45dd-a14f-6d4477667427",
   "metadata": {},
   "outputs": [],
   "source": [
    "# 17. Write a Python program to create and write a list of numbers to a file, one number per line.\n",
    "\n",
    "\n",
    "numbers = [1, 2, 3, 4, 5]\n",
    "\n",
    "with open(\"numbers.txt\", \"w\") as file:\n",
    "    for number in numbers:\n",
    "        file.write(f\"{number}\\n\")  \n"
   ]
  },
  {
   "cell_type": "code",
   "execution_count": 47,
   "id": "b5cc6c88-322b-4561-ba7e-d6a33cf71b5d",
   "metadata": {},
   "outputs": [],
   "source": [
    "# 18. How would you implement a basic logging setup that logs to a file with rotation after 1MB?\n",
    "\n",
    "import logging\n",
    "from logging.handlers import RotatingFileHandler\n",
    "\n",
    "# Create a logger\n",
    "logger = logging.getLogger(\"MyLogger\")\n",
    "logger.setLevel(logging.DEBUG)\n",
    "\n",
    "# Create a handler with rotation after 1MB\n",
    "handler = RotatingFileHandler(\"app.log\", maxBytes=1_000_000, backupCount=3)\n",
    "formatter = logging.Formatter('%(asctime)s - %(levelname)s - %(message)s')\n",
    "handler.setFormatter(formatter)\n",
    "\n",
    "logger.addHandler(handler)\n",
    "\n",
    "# Example log messages\n",
    "logger.debug(\"This is a debug message.\")\n",
    "logger.info(\"This is an info message.\")\n",
    "logger.error(\"This is an error message.\")\n"
   ]
  },
  {
   "cell_type": "code",
   "execution_count": 51,
   "id": "9e575a4f-986d-41a6-ad69-c2aa6daed3a1",
   "metadata": {},
   "outputs": [
    {
     "name": "stdout",
     "output_type": "stream",
     "text": [
      "IndexError caught: list index out of range\n"
     ]
    }
   ],
   "source": [
    "# 19. Write a program that handles both IndexError and KeyError using a try-except block.\n",
    "\n",
    "try:\n",
    "    my_list = [1, 2, 3]\n",
    "    print(my_list[5])  \n",
    "\n",
    "    my_dict = {\"a\": 1}\n",
    "    print(my_dict[\"b\"]) \n",
    "\n",
    "except IndexError as e:\n",
    "    print(f\"IndexError caught: {e}\")\n",
    "\n",
    "except KeyError as e:\n",
    "    print(f\"KeyError caught: {e}\")\n"
   ]
  },
  {
   "cell_type": "code",
   "execution_count": 59,
   "id": "1c1f7174-9094-4f33-9f08-64234aa70e0f",
   "metadata": {},
   "outputs": [
    {
     "name": "stdout",
     "output_type": "stream",
     "text": [
      "Keo is my pet and i love playing with him\n"
     ]
    }
   ],
   "source": [
    "# 20. How would you open a file and read its contents using a context manager in Python?\n",
    "file_name = \"example20.txt\"\n",
    "with open(file_name, \"w\") as file:\n",
    "    file.write(\"Keo is my pet and i love playing with him\")\n",
    "\n",
    "\n",
    "with open(file_name, \"r\") as file:\n",
    "    contents = file.read()\n",
    "    print(contents)\n"
   ]
  },
  {
   "cell_type": "code",
   "execution_count": 65,
   "id": "867b70f4-e8a3-4326-b32d-152c63727604",
   "metadata": {},
   "outputs": [
    {
     "name": "stdout",
     "output_type": "stream",
     "text": [
      "The word 'Python' occurs 1 times in the file.\n"
     ]
    }
   ],
   "source": [
    "# 21. Write a Python program that reads a file and prints the number of occurrences of a specific word.\n",
    "\n",
    "\n",
    "file_name = \"example21.txt\"\n",
    "with open(file_name, \"w\") as file:\n",
    "    file.write(\"Keo is my pet and i love playing with him and he studies Python with me\")\n",
    "\n",
    "word_to_count = \"Python\"\n",
    "\n",
    "with open(file_name, \"r\") as file:\n",
    "    contents = file.read()\n",
    "    count = contents.count(word_to_count)\n",
    "    print(f\"The word '{word_to_count}' occurs {count} times in the file.\")\n"
   ]
  },
  {
   "cell_type": "code",
   "execution_count": 67,
   "id": "1dd23969-0e01-4118-be04-ac070710535b",
   "metadata": {},
   "outputs": [
    {
     "name": "stdout",
     "output_type": "stream",
     "text": [
      "The file is not empty.\n"
     ]
    }
   ],
   "source": [
    "# 22. How can you check if a file is empty before attempting to read its contents?\n",
    "\n",
    "\n",
    "file_name = \"example.txt\"\n",
    "\n",
    "import os\n",
    "\n",
    "if os.path.exists(file_name) and os.path.getsize(file_name) == 0:\n",
    "    print(\"The file is empty.\")\n",
    "else:\n",
    "    print(\"The file is not empty.\")\n"
   ]
  },
  {
   "cell_type": "code",
   "execution_count": null,
   "id": "c3df2f4e-9692-4661-9752-20f0d66548ed",
   "metadata": {},
   "outputs": [],
   "source": [
    "# 23: Write a Python program that writes to a log file when an error occurs during file handling.\n",
    "\n",
    "import logging\n",
    "\n",
    "# Setup logging\n",
    "logging.basicConfig(filename=\"error.log\", level=logging.ERROR, format=\"%(asctime)s - %(message)s\")\n",
    "\n",
    "try:\n",
    "    # Attempt to open a non-existent file to raise an exception\n",
    "    with open(\"non_existent_file.txt\", \"r\") as file:\n",
    "        contents = file.read()\n",
    "\n",
    "except FileNotFoundError as e:\n",
    "    logging.error(f\"An error occurred: {e}\")\n",
    "    print(\"An error has been logged.\")\n",
    "\n"
   ]
  },
  {
   "cell_type": "code",
   "execution_count": null,
   "id": "9b78736a",
   "metadata": {},
   "outputs": [],
   "source": []
  }
 ],
 "metadata": {
  "kernelspec": {
   "display_name": "Python 3 (ipykernel)",
   "language": "python",
   "name": "python3"
  },
  "language_info": {
   "codemirror_mode": {
    "name": "ipython",
    "version": 3
   },
   "file_extension": ".py",
   "mimetype": "text/x-python",
   "name": "python",
   "nbconvert_exporter": "python",
   "pygments_lexer": "ipython3",
   "version": "3.12.7"
  }
 },
 "nbformat": 4,
 "nbformat_minor": 5
}
